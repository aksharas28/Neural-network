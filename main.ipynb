{
 "cells": [
  {
   "cell_type": "code",
   "execution_count": 1,
   "metadata": {},
   "outputs": [],
   "source": [
    "# Read Fashion MNIST dataset\n",
    "import util_mnist_reader\n",
    "X_train, y_train = util_mnist_reader.load_mnist('fashion', kind='train')\n",
    "X_test, y_test = util_mnist_reader.load_mnist('fashion', kind='t10k')\n",
    "class_names = ['T-shirt/top', 'Trouser', 'Pullover', 'Dress', 'Coat', 'Sandal', 'Shirt', 'Sneaker', 'Bag', 'Ankle boot']\n",
    "\n",
    "# Your code goes here . . ."
   ]
  },
  {
   "cell_type": "code",
   "execution_count": 2,
   "metadata": {},
   "outputs": [
    {
     "name": "stderr",
     "output_type": "stream",
     "text": [
      "C:\\Users\\aksha\\AppData\\Local\\Continuum\\anaconda3\\lib\\site-packages\\h5py\\__init__.py:36: FutureWarning: Conversion of the second argument of issubdtype from `float` to `np.floating` is deprecated. In future, it will be treated as `np.float64 == np.dtype(float).type`.\n",
      "  from ._conv import register_converters as _register_converters\n",
      "Using TensorFlow backend.\n"
     ]
    }
   ],
   "source": [
    "import tensorflow \n",
    "from tensorflow import keras\n",
    "from keras.models import Sequential\n",
    "from keras.layers import Dense\n",
    "import numpy as np \n",
    "import matplotlib.pyplot as plt "
   ]
  },
  {
   "cell_type": "code",
   "execution_count": 3,
   "metadata": {},
   "outputs": [
    {
     "name": "stdout",
     "output_type": "stream",
     "text": [
      "train_images: (60000, 784)\n",
      "test_images: (10000, 784)\n"
     ]
    }
   ],
   "source": [
    "print(\"train_images:\", X_train.shape)\n",
    "print(\"test_images:\", X_test.shape)"
   ]
  },
  {
   "cell_type": "code",
   "execution_count": 4,
   "metadata": {},
   "outputs": [],
   "source": [
    "#Normalizing the data\n",
    "X_train = X_train / 255.0\n",
    "X_test = X_test / 255.0"
   ]
  },
  {
   "cell_type": "code",
   "execution_count": 6,
   "metadata": {
    "scrolled": true
   },
   "outputs": [
    {
     "data": {
      "image/png": "[encoded data removed]",
      "text/plain": [
       "<Figure size 432x288 with 1 Axes>"
      ]
     },
     "metadata": {},
     "output_type": "display_data"
    },
    {
     "name": "stdout",
     "output_type": "stream",
     "text": [
      "[0. 0. 0. 0. 0. 0. 0. 1. 0. 0.]\n",
      "Epoch 0 cost:  13.159239242285748\n",
      "Epoch 100 cost:  0.9503433919989206\n",
      "Epoch 200 cost:  0.7931400877191037\n",
      "Epoch 300 cost:  0.72350710609826\n",
      "Epoch 400 cost:  0.6796576585701475\n",
      "Epoch 500 cost:  0.6494874073418869\n",
      "Epoch 600 cost:  0.6270830841516136\n",
      "Epoch 700 cost:  0.6092004294837284\n",
      "Epoch 800 cost:  0.5943162056697716\n",
      "Epoch 900 cost:  0.5816640125953473\n",
      "Final cost: 0.5707980638742212\n"
     ]
    },
    {
     "data": {
      "image/png": "[encoded data removed]",
      "text/plain": [
       "<Figure size 432x288 with 1 Axes>"
      ]
     },
     "metadata": {},
     "output_type": "display_data"
    },
    {
     "name": "stdout",
     "output_type": "stream",
     "text": [
      "[[763   8  24  49   1   1 188   0   3   2]\n",
      " [  3 925   3  16   3   0   2   0   1   0]\n",
      " [ 28  15 660  17 136   0 158   0  15   1]\n",
      " [ 64  35  11 821  37   3  37   0   6   1]\n",
      " [ 12   8 163  46 703   0 160   0  10   0]\n",
      " [  1   0   0   1   0 841   3  56  11  24]\n",
      " [108   8 124  38 111   1 420   0  26   2]\n",
      " [  1   0   0   0   0  86   1 857  12  52]\n",
      " [ 20   1  14  12   8  20  31   5 914   3]\n",
      " [  0   0   1   0   1  48   0  82   2 915]]\n",
      "              precision    recall  f1-score   support\n",
      "\n",
      "           0       0.76      0.73      0.75      1039\n",
      "           1       0.93      0.97      0.95       953\n",
      "           2       0.66      0.64      0.65      1030\n",
      "           3       0.82      0.81      0.81      1015\n",
      "           4       0.70      0.64      0.67      1102\n",
      "           5       0.84      0.90      0.87       937\n",
      "           6       0.42      0.50      0.46       838\n",
      "           7       0.86      0.85      0.85      1009\n",
      "           8       0.91      0.89      0.90      1028\n",
      "           9       0.92      0.87      0.89      1049\n",
      "\n",
      "    accuracy                           0.78     10000\n",
      "   macro avg       0.78      0.78      0.78     10000\n",
      "weighted avg       0.79      0.78      0.78     10000\n",
      "\n"
     ]
    }
   ],
   "source": [
    "#Train using Neural Network with One Hidden Layer\n",
    "from sklearn.datasets import fetch_openml\n",
    "%matplotlib inline\n",
    "import matplotlib\n",
    "import matplotlib.pyplot as plt\n",
    "import numpy as np\n",
    "from sklearn.multiclass import OneVsRestClassifier\n",
    "from sklearn.metrics import classification_report\n",
    "from sklearn.metrics import average_precision_score\n",
    "from sklearn import preprocessing\n",
    "from sklearn.model_selection import train_test_split\n",
    "from sklearn.metrics import confusion_matrix\n",
    "X, y = fetch_openml('Fashion-MNIST', version=1, return_X_y=True)\n",
    "X = X / 255\n",
    "digits = 10\n",
    "examples = y.shape[0]\n",
    "y = y.reshape(1, examples)\n",
    "Y_new = np.eye(digits)[y.astype('int32')]\n",
    "Y_new = Y_new.T.reshape(digits, examples)\n",
    "m = 60000\n",
    "m_test = X.shape[0] - m\n",
    "X_train, X_test = X[:m].T, X[m:].T\n",
    "Y_train, Y_test = Y_new[:,:m], Y_new[:,m:]\n",
    "shuffle_index = np.random.permutation(m)\n",
    "X_train, Y_train = X_train[:, shuffle_index], Y_train[:, shuffle_index]\n",
    "i = 12\n",
    "plt.imshow(X_train[:,i].reshape(28,28), cmap = matplotlib.cm.binary)\n",
    "plt.axis(\"off\")\n",
    "plt.show()\n",
    "print(Y_train[:,i])\n",
    "def compute_multiclass_loss(Y, Y_hat):\n",
    "    L_sum = np.sum(np.multiply(Y, np.log(Y_hat)))\n",
    "    m = Y.shape[1]\n",
    "    L = -(1/m) * L_sum\n",
    "    return L\n",
    "def sigmoid(z):\n",
    "    s = 1 / (1 + np.exp(-z))\n",
    "    return s\n",
    "n_x = X_train.shape[0]\n",
    "n_h = 64\n",
    "learning_rate = 0.5\n",
    "Weight1 = np.random.randn(n_h, n_x)\n",
    "bias1 = np.zeros((n_h, 1))\n",
    "Weight2 = np.random.randn(digits, n_h)\n",
    "bias2 = np.zeros((digits, 1))\n",
    "X = X_train\n",
    "Y = Y_train\n",
    "losstrack = list()\n",
    "for i in range(1000):\n",
    "    Z1 = np.matmul(Weight1,X) + bias1\n",
    "    A1 = sigmoid(Z1)\n",
    "    Z2 = np.matmul(Weight2,A1) + bias2\n",
    "    A2 = np.exp(Z2) / np.sum(np.exp(Z2), axis=0)\n",
    "    cost = compute_multiclass_loss(Y, A2)\n",
    "    losstrack.append(np.squeeze(cost))\n",
    "    dZ2 = A2-Y\n",
    "    dW2 = (1./m) * np.matmul(dZ2, A1.T)\n",
    "    db2 = (1./m) * np.sum(dZ2, axis=1, keepdims=True)\n",
    "    dA1 = np.matmul(Weight2.T, dZ2)\n",
    "    dZ1 = dA1 * sigmoid(Z1) * (1 - sigmoid(Z1))\n",
    "    dW1 = (1./m) * np.matmul(dZ1, X.T)\n",
    "    db1 = (1./m) * np.sum(dZ1, axis=1, keepdims=True)\n",
    "    Weight2 = Weight2 - learning_rate * dW2\n",
    "    bias2 = bias2 - learning_rate * db2\n",
    "    Weight1 = Weight1 - learning_rate * dW1\n",
    "    bias1 = bias1 - learning_rate * db1\n",
    "    if (i % 100 == 0):\n",
    "        print(\"Epoch\", i, \"cost: \", cost)\n",
    "print(\"Final cost:\", cost)\n",
    "plt.plot(losstrack)\n",
    "plt.show()\n",
    "Z1 = np.matmul(Weight1, X_test) + bias1\n",
    "A1 = sigmoid(Z1)\n",
    "Z2 = np.matmul(Weight2, A1) + bias2\n",
    "A2 = np.exp(Z2) / np.sum(np.exp(Z2), axis=0)\n",
    "predictions = np.argmax(A2, axis=0)\n",
    "labels = np.argmax(Y_test, axis=0)\n",
    "predictions = np.argmax(A2, axis=0)\n",
    "labels = np.argmax(Y_test, axis=0)\n",
    "print(confusion_matrix(predictions, labels))\n",
    "print(classification_report(predictions, labels))\n"
   ]
  },
  {
   "cell_type": "code",
   "execution_count": 7,
   "metadata": {},
   "outputs": [],
   "source": [
    "import tensorflow as tf\n",
    "import keras"
   ]
  },
  {
   "cell_type": "code",
   "execution_count": 8,
   "metadata": {},
   "outputs": [],
   "source": [
    "import keras\n",
    "from keras.datasets import fashion_mnist\n",
    "from keras.layers import Dense, Activation, Flatten, Conv2D, MaxPooling2D\n",
    "from keras.models import Sequential\n",
    "from keras.utils import to_categorical\n",
    "import numpy as np\n",
    "import matplotlib.pyplot as plt\n",
    "from sklearn.multiclass import OneVsRestClassifier\n",
    "from sklearn.metrics import classification_report\n",
    "from sklearn.metrics import average_precision_score\n",
    "from sklearn import preprocessing\n",
    "from sklearn.model_selection import train_test_split\n",
    "from sklearn.metrics import confusion_matrix"
   ]
  },
  {
   "cell_type": "code",
   "execution_count": 9,
   "metadata": {},
   "outputs": [],
   "source": [
    "(x_train, y_train), (x_test, y_test) = fashion_mnist.load_data()"
   ]
  },
  {
   "cell_type": "code",
   "execution_count": 10,
   "metadata": {},
   "outputs": [],
   "source": [
    "x_train = x_train.astype('float32')/255\n",
    "x_test = x_test.astype('float32')/255"
   ]
  },
  {
   "cell_type": "code",
   "execution_count": 11,
   "metadata": {},
   "outputs": [],
   "source": [
    "#Train using Multi-layer Neural network\n",
    "\n",
    "model= keras.Sequential([\n",
    "    keras.layers.Flatten(),\n",
    "    keras.layers.Dense(512, activation=tf.nn.relu),\n",
    "    keras.layers.Dropout(0,2),\n",
    "    keras.layers.Dense(512, activation=tf.nn.relu),\n",
    "    keras.layers.Dropout(0,2),\n",
    "    keras.layers.Dense(10, activation=tf.nn.softmax)\n",
    "])\n",
    "model.compile(optimizer='adam',loss='sparse_categorical_crossentropy',metrics=['accuracy'])"
   ]
  },
  {
   "cell_type": "code",
   "execution_count": 12,
   "metadata": {},
   "outputs": [
    {
     "name": "stdout",
     "output_type": "stream",
     "text": [
      "Epoch 1/20\n",
      "60000/60000 [==============================] - 27s 457us/step - loss: 0.4628 - accuracy: 0.8322\n",
      "Epoch 2/20\n",
      "60000/60000 [==============================] - 27s 454us/step - loss: 0.3548 - accuracy: 0.8709\n",
      "Epoch 3/20\n",
      "60000/60000 [==============================] - 28s 462us/step - loss: 0.3175 - accuracy: 0.8823A: 0s - loss: 0.317\n",
      "Epoch 4/20\n",
      "60000/60000 [==============================] - 27s 455us/step - loss: 0.2956 - accuracy: 0.8892\n",
      "Epoch 5/20\n",
      "60000/60000 [==============================] - 27s 456us/step - loss: 0.2778 - accuracy: 0.8961\n",
      "Epoch 6/20\n",
      "60000/60000 [==============================] - 27s 451us/step - loss: 0.2619 - accuracy: 0.9013\n",
      "Epoch 7/20\n",
      "60000/60000 [==============================] - 27s 451us/step - loss: 0.2490 - accuracy: 0.9059\n",
      "Epoch 8/20\n",
      "60000/60000 [==============================] - 28s 459us/step - loss: 0.2366 - accuracy: 0.9099\n",
      "Epoch 9/20\n",
      "60000/60000 [==============================] - 27s 458us/step - loss: 0.2302 - accuracy: 0.9127\n",
      "Epoch 10/20\n",
      "60000/60000 [==============================] - 29s 489us/step - loss: 0.2192 - accuracy: 0.9175\n",
      "Epoch 11/20\n",
      "60000/60000 [==============================] - 29s 490us/step - loss: 0.2092 - accuracy: 0.9201s - l\n",
      "Epoch 12/20\n",
      "60000/60000 [==============================] - 29s 476us/step - loss: 0.2002 - accuracy: 0.9223\n",
      "Epoch 13/20\n",
      "60000/60000 [==============================] - 27s 451us/step - loss: 0.1952 - accuracy: 0.9251\n",
      "Epoch 14/20\n",
      "60000/60000 [==============================] - 28s 464us/step - loss: 0.1868 - accuracy: 0.9288\n",
      "Epoch 15/20\n",
      "60000/60000 [==============================] - 27s 450us/step - loss: 0.1793 - accuracy: 0.9306\n",
      "Epoch 16/20\n",
      "60000/60000 [==============================] - 28s 459us/step - loss: 0.1705 - accuracy: 0.9346s - los\n",
      "Epoch 17/20\n",
      "60000/60000 [==============================] - 27s 453us/step - loss: 0.1707 - accuracy: 0.9337\n",
      "Epoch 18/20\n",
      "60000/60000 [==============================] - 27s 452us/step - loss: 0.1606 - accuracy: 0.9393\n",
      "Epoch 19/20\n",
      "60000/60000 [==============================] - 28s 459us/step - loss: 0.1590 - accuracy: 0.9395\n",
      "Epoch 20/20\n",
      "60000/60000 [==============================] - 27s 455us/step - loss: 0.1530 - accuracy: 0.9415\n",
      "10000/10000 [==============================] - 1s 70us/step\n",
      "Model multiple layers - test loss: 38.97708965778351\n",
      "Model multiple layers - test accuracy: 89.60000276565552\n"
     ]
    }
   ],
   "source": [
    "history=model.fit(x_train, y_train, epochs=20)\n",
    "test_loss, test_acc = model.evaluate(x_test, y_test)\n",
    "print(\"Model multiple layers - test loss:\", test_loss * 100)\n",
    "print(\"Model multiple layers - test accuracy:\", test_acc * 100)\n"
   ]
  },
  {
   "cell_type": "code",
   "execution_count": 13,
   "metadata": {},
   "outputs": [
    {
     "data": {
      "text/plain": [
       "[<matplotlib.lines.Line2D at 0x20996f4ae10>]"
      ]
     },
     "execution_count": 13,
     "metadata": {},
     "output_type": "execute_result"
    },
    {
     "data": {
      "image/png": "[encoded data removed]",
      "text/plain": [
       "<Figure size 432x288 with 1 Axes>"
      ]
     },
     "metadata": {},
     "output_type": "display_data"
    }
   ],
   "source": [
    "plt.plot(history.history['loss'])"
   ]
  },
  {
   "cell_type": "code",
   "execution_count": 14,
   "metadata": {},
   "outputs": [],
   "source": [
    "test_predictions = model.predict_classes(x_test)"
   ]
  },
  {
   "cell_type": "code",
   "execution_count": 15,
   "metadata": {},
   "outputs": [
    {
     "name": "stdout",
     "output_type": "stream",
     "text": [
      "[[856   0  23  21   3   2  87   0   8   0]\n",
      " [  5 975   5   9   3   0   2   0   1   0]\n",
      " [ 15   1 831  12  92   0  48   0   1   0]\n",
      " [ 24   4  12 910  24   0  20   0   6   0]\n",
      " [  0   0  85  41 820   0  53   0   1   0]\n",
      " [  0   0   0   1   0 953   0  30   1  15]\n",
      " [126   0  71  26  66   0 701   0  10   0]\n",
      " [  0   0   0   0   0   3   0 973   0  24]\n",
      " [  5   0   1   6   1   2   5   5 975   0]\n",
      " [  0   0   0   0   0   6   1  27   0 966]]\n"
     ]
    }
   ],
   "source": [
    "confusionmatrix = confusion_matrix(y_true = y_test, y_pred = test_predictions)\n",
    "print(confusionmatrix)"
   ]
  },
  {
   "cell_type": "code",
   "execution_count": 16,
   "metadata": {},
   "outputs": [
    {
     "name": "stdout",
     "output_type": "stream",
     "text": [
      "              precision    recall  f1-score   support\n",
      "\n",
      "           0       0.83      0.86      0.84      1000\n",
      "           1       0.99      0.97      0.98      1000\n",
      "           2       0.81      0.83      0.82      1000\n",
      "           3       0.89      0.91      0.90      1000\n",
      "           4       0.81      0.82      0.82      1000\n",
      "           5       0.99      0.95      0.97      1000\n",
      "           6       0.76      0.70      0.73      1000\n",
      "           7       0.94      0.97      0.96      1000\n",
      "           8       0.97      0.97      0.97      1000\n",
      "           9       0.96      0.97      0.96      1000\n",
      "\n",
      "    accuracy                           0.90     10000\n",
      "   macro avg       0.90      0.90      0.90     10000\n",
      "weighted avg       0.90      0.90      0.90     10000\n",
      "\n"
     ]
    }
   ],
   "source": [
    "print(classification_report(y_true = y_test, y_pred = test_predictions))"
   ]
  },
  {
   "cell_type": "code",
   "execution_count": 17,
   "metadata": {},
   "outputs": [
    {
     "name": "stdout",
     "output_type": "stream",
     "text": [
      "Epoch 1/20\n",
      "60000/60000 [==============================] - 70s 1ms/step - loss: 0.4661 - accuracy: 0.8313\n",
      "Epoch 2/20\n",
      "60000/60000 [==============================] - 69s 1ms/step - loss: 0.3144 - accuracy: 0.8872\n",
      "Epoch 3/20\n",
      "60000/60000 [==============================] - 72s 1ms/step - loss: 0.2762 - accuracy: 0.8982\n",
      "Epoch 4/20\n",
      "60000/60000 [==============================] - 71s 1ms/step - loss: 0.2489 - accuracy: 0.9095\n",
      "Epoch 5/20\n",
      "60000/60000 [==============================] - 71s 1ms/step - loss: 0.2259 - accuracy: 0.9182\n",
      "Epoch 6/20\n",
      "60000/60000 [==============================] - 71s 1ms/step - loss: 0.2092 - accuracy: 0.9237\n",
      "Epoch 7/20\n",
      "60000/60000 [==============================] - 70s 1ms/step - loss: 0.1956 - accuracy: 0.9273\n",
      "Epoch 8/20\n",
      "60000/60000 [==============================] - 70s 1ms/step - loss: 0.1828 - accuracy: 0.9320\n",
      "Epoch 9/20\n",
      "60000/60000 [==============================] - 75s 1ms/step - loss: 0.1710 - accuracy: 0.9369\n",
      "Epoch 10/20\n",
      "60000/60000 [==============================] - 70s 1ms/step - loss: 0.1601 - accuracy: 0.9407\n",
      "Epoch 11/20\n",
      "60000/60000 [==============================] - 70s 1ms/step - loss: 0.1504 - accuracy: 0.9439\n",
      "Epoch 12/20\n",
      "60000/60000 [==============================] - 71s 1ms/step - loss: 0.1403 - accuracy: 0.9480\n",
      "Epoch 13/20\n",
      "60000/60000 [==============================] - 70s 1ms/step - loss: 0.1333 - accuracy: 0.9509\n",
      "Epoch 14/20\n",
      "60000/60000 [==============================] - 74s 1ms/step - loss: 0.1262 - accuracy: 0.9542\n",
      "Epoch 15/20\n",
      "60000/60000 [==============================] - 73s 1ms/step - loss: 0.1164 - accuracy: 0.9567\n",
      "Epoch 16/20\n",
      "60000/60000 [==============================] - 63s 1ms/step - loss: 0.1136 - accuracy: 0.9581\n",
      "Epoch 17/20\n",
      "60000/60000 [==============================] - 68s 1ms/step - loss: 0.1060 - accuracy: 0.9608\n",
      "Epoch 18/20\n",
      "60000/60000 [==============================] - 69s 1ms/step - loss: 0.1015 - accuracy: 0.9622\n",
      "Epoch 19/20\n",
      "60000/60000 [==============================] - 69s 1ms/step - loss: 0.0938 - accuracy: 0.9652\n",
      "Epoch 20/20\n",
      "60000/60000 [==============================] - 64s 1ms/step - loss: 0.0935 - accuracy: 0.9654 0s - loss: 0.0933 \n",
      "10000/10000 [==============================] - 3s 306us/step\n",
      "Test-loss 0.38852380490899086\n",
      "Test-accuracy 0.9007999897003174\n",
      "[[905   1  16  18   4   1  50   0   5   0]\n",
      " [  6 980   0  11   1   0   2   0   0   0]\n",
      " [ 31   1 841  16  39   0  71   0   1   0]\n",
      " [ 25   6   7 925  27   0   8   0   2   0]\n",
      " [  4   0  62  34 834   0  66   0   0   0]\n",
      " [  1   0   0   0   0 984   0  11   0   4]\n",
      " [184   2  56  35  68   0 647   0   7   1]\n",
      " [  0   0   0   0   0  19   0 962   0  19]\n",
      " [ 10   1   1   5   4   2   4   4 968   1]\n",
      " [  1   0   0   0   0   7   0  30   0 962]]\n",
      "              precision    recall  f1-score   support\n",
      "\n",
      "           0       0.78      0.91      0.84      1000\n",
      "           1       0.99      0.98      0.98      1000\n",
      "           2       0.86      0.84      0.85      1000\n",
      "           3       0.89      0.93      0.91      1000\n",
      "           4       0.85      0.83      0.84      1000\n",
      "           5       0.97      0.98      0.98      1000\n",
      "           6       0.76      0.65      0.70      1000\n",
      "           7       0.96      0.96      0.96      1000\n",
      "           8       0.98      0.97      0.98      1000\n",
      "           9       0.97      0.96      0.97      1000\n",
      "\n",
      "    accuracy                           0.90     10000\n",
      "   macro avg       0.90      0.90      0.90     10000\n",
      "weighted avg       0.90      0.90      0.90     10000\n",
      "\n"
     ]
    },
    {
     "data": {
      "image/png": "[encoded data removed]",
      "text/plain": [
       "<Figure size 432x288 with 1 Axes>"
      ]
     },
     "metadata": {},
     "output_type": "display_data"
    }
   ],
   "source": [
    "import keras\n",
    "from keras.datasets import fashion_mnist\n",
    "from keras.layers import Dense, Activation, Flatten, Conv2D, MaxPooling2D\n",
    "from keras.models import Sequential\n",
    "from keras.utils import to_categorical\n",
    "import numpy as np\n",
    "import matplotlib.pyplot as plt\n",
    "from sklearn.multiclass import OneVsRestClassifier\n",
    "from sklearn.metrics import classification_report\n",
    "from sklearn.metrics import average_precision_score\n",
    "from sklearn import preprocessing\n",
    "from sklearn.model_selection import train_test_split\n",
    "from sklearn.metrics import confusion_matrix\n",
    "(train_X,train_Y), (test_X,test_Y) = fashion_mnist.load_data()\n",
    "train_X = train_X.reshape(-1, 28,28, 1)\n",
    "test_X = test_X.reshape(-1, 28,28, 1)\n",
    "train_X = train_X.astype('float32')\n",
    "test_X = test_X.astype('float32')\n",
    "train_X = train_X / 255\n",
    "test_X = test_X / 255\n",
    "train_Y_new = to_categorical(train_Y)\n",
    "test_Y_new = to_categorical(test_Y)\n",
    "model = Sequential()\n",
    "model.add(Conv2D(64, (3,3), input_shape=(28, 28, 1)))\n",
    "model.add(Activation('relu'))\n",
    "model.add(MaxPooling2D(pool_size=(2,2)))\n",
    "model.add(Conv2D(64, (3,3)))\n",
    "model.add(Activation('relu'))\n",
    "model.add(MaxPooling2D(pool_size=(2,2)))\n",
    "model.add(Flatten())\n",
    "model.add(Dense(64))\n",
    "model.add(Dense(10))\n",
    "model.add(Activation('softmax'))\n",
    "model.compile(loss=keras.losses.categorical_crossentropy, optimizer=keras.optimizers.Adam(),metrics=['accuracy'])\n",
    "history = model.fit(train_X, train_Y_new, batch_size=64, epochs=20)\n",
    "plt.plot(history.history['loss'])\n",
    "test_loss, test_acc = model.evaluate(test_X, test_Y_new)\n",
    "print('Test-loss', test_loss)\n",
    "print('Test-accuracy', test_acc)\n",
    "test_predictions = model.predict_classes(test_X)\n",
    "from sklearn.metrics import confusion_matrix\n",
    "confusionmatrix = confusion_matrix(y_true = test_Y, y_pred = test_predictions)\n",
    "print(confusionmatrix)\n",
    "print(classification_report(y_true = test_Y, y_pred = test_predictions))"
   ]
  },
  {
   "cell_type": "code",
   "execution_count": null,
   "metadata": {},
   "outputs": [],
   "source": []
  }
 ],
 "metadata": {
  "kernelspec": {
   "display_name": "Python 3",
   "language": "python",
   "name": "python3"
  },
  "language_info": {
   "codemirror_mode": {
    "name": "ipython",
    "version": 3
   },
   "file_extension": ".py",
   "mimetype": "text/x-python",
   "name": "python",
   "nbconvert_exporter": "python",
   "pygments_lexer": "ipython3",
   "version": "3.6.5"
  }
 },
 "nbformat": 4,
 "nbformat_minor": 2
}
